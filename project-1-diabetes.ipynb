{
 "cells": [
  {
   "cell_type": "markdown",
   "id": "6669537c",
   "metadata": {
    "papermill": {
     "duration": 0.003199,
     "end_time": "2025-08-03T02:46:09.499615",
     "exception": false,
     "start_time": "2025-08-03T02:46:09.496416",
     "status": "completed"
    },
    "tags": []
   },
   "source": []
  },
  {
   "cell_type": "markdown",
   "id": "1eafcc35",
   "metadata": {
    "papermill": {
     "duration": 0.00246,
     "end_time": "2025-08-03T02:46:09.505709",
     "exception": false,
     "start_time": "2025-08-03T02:46:09.503249",
     "status": "completed"
    },
    "tags": []
   },
   "source": [
    "The paradigm of healthcare has been shifted from treatment to prevention. In order to prevent a medical condition, it is critical to understand which factor(s) is related to the condition. \n",
    "\n",
    "The primary goal of this project is to determine which predictor among the 8 given in this dataset most accurately predicts the presence of diabetes. In other words, I aim to identify the indicator that has meaningful correlation with the presence of diabetes. The secondary goal of this project is to figure out what other indicators could be possibly correlated with the key predictor. In case the key predictor is difficult or costly to obtain, this piece of knowledge could help people gauge their risk of having diabetes via more accessible measures."
   ]
  },
  {
   "cell_type": "code",
   "execution_count": 1,
   "id": "53d7f5d9",
   "metadata": {
    "_cell_guid": "b1076dfc-b9ad-4769-8c92-a6c4dae69d19",
    "_uuid": "8f2839f25d086af736a60e9eeb907d3b93b6e0e5",
    "execution": {
     "iopub.execute_input": "2025-08-03T02:46:09.512565Z",
     "iopub.status.busy": "2025-08-03T02:46:09.512185Z",
     "iopub.status.idle": "2025-08-03T02:46:11.589970Z",
     "shell.execute_reply": "2025-08-03T02:46:11.588934Z"
    },
    "papermill": {
     "duration": 2.083239,
     "end_time": "2025-08-03T02:46:11.591675",
     "exception": false,
     "start_time": "2025-08-03T02:46:09.508436",
     "status": "completed"
    },
    "tags": []
   },
   "outputs": [
    {
     "name": "stdout",
     "output_type": "stream",
     "text": [
      "/kaggle/input/diabetes/diabetes.csv\n"
     ]
    }
   ],
   "source": [
    "# This Python 3 environment comes with many helpful analytics libraries installed\n",
    "# It is defined by the kaggle/python Docker image: https://github.com/kaggle/docker-python\n",
    "# For example, here's several helpful packages to load\n",
    "\n",
    "import numpy as np # linear algebra\n",
    "import pandas as pd # data processing, CSV file I/O (e.g. pd.read_csv)\n",
    "\n",
    "# Input data files are available in the read-only \"../input/\" directory\n",
    "# For example, running this (by clicking run or pressing Shift+Enter) will list all files under the input directory\n",
    "\n",
    "import os\n",
    "for dirname, _, filenames in os.walk('/kaggle/input'):\n",
    "    for filename in filenames:\n",
    "        print(os.path.join(dirname, filename))\n",
    "\n",
    "# You can write up to 20GB to the current directory (/kaggle/working/) that gets preserved as output when you create a version using \"Save & Run All\" \n",
    "# You can also write temporary files to /kaggle/temp/, but they won't be saved outside of the current session"
   ]
  },
  {
   "cell_type": "code",
   "execution_count": 2,
   "id": "cf02acbd",
   "metadata": {
    "execution": {
     "iopub.execute_input": "2025-08-03T02:46:11.599499Z",
     "iopub.status.busy": "2025-08-03T02:46:11.598634Z",
     "iopub.status.idle": "2025-08-03T02:46:11.628518Z",
     "shell.execute_reply": "2025-08-03T02:46:11.627494Z"
    },
    "papermill": {
     "duration": 0.035497,
     "end_time": "2025-08-03T02:46:11.630232",
     "exception": false,
     "start_time": "2025-08-03T02:46:11.594735",
     "status": "completed"
    },
    "tags": []
   },
   "outputs": [
    {
     "data": {
      "text/plain": [
       "(768, 9)"
      ]
     },
     "execution_count": 2,
     "metadata": {},
     "output_type": "execute_result"
    }
   ],
   "source": [
    "df = pd.read_csv('/kaggle/input/diabetes/diabetes.csv')\n",
    "df.shape"
   ]
  },
  {
   "cell_type": "code",
   "execution_count": 3,
   "id": "ec71a64e",
   "metadata": {
    "execution": {
     "iopub.execute_input": "2025-08-03T02:46:11.637742Z",
     "iopub.status.busy": "2025-08-03T02:46:11.637440Z",
     "iopub.status.idle": "2025-08-03T02:46:11.643441Z",
     "shell.execute_reply": "2025-08-03T02:46:11.642583Z"
    },
    "papermill": {
     "duration": 0.01138,
     "end_time": "2025-08-03T02:46:11.644658",
     "exception": false,
     "start_time": "2025-08-03T02:46:11.633278",
     "status": "completed"
    },
    "tags": []
   },
   "outputs": [
    {
     "data": {
      "text/plain": [
       "['Pregnancies',\n",
       " 'Glucose',\n",
       " 'BloodPressure',\n",
       " 'SkinThickness',\n",
       " 'Insulin',\n",
       " 'BMI',\n",
       " 'DiabetesPedigreeFunction',\n",
       " 'Age',\n",
       " 'Outcome']"
      ]
     },
     "execution_count": 3,
     "metadata": {},
     "output_type": "execute_result"
    }
   ],
   "source": [
    "cols = list(df.columns)\n",
    "cols"
   ]
  },
  {
   "cell_type": "code",
   "execution_count": 4,
   "id": "8dfbb3bb",
   "metadata": {
    "execution": {
     "iopub.execute_input": "2025-08-03T02:46:11.651711Z",
     "iopub.status.busy": "2025-08-03T02:46:11.651408Z",
     "iopub.status.idle": "2025-08-03T02:46:11.677760Z",
     "shell.execute_reply": "2025-08-03T02:46:11.676907Z"
    },
    "papermill": {
     "duration": 0.031542,
     "end_time": "2025-08-03T02:46:11.679222",
     "exception": false,
     "start_time": "2025-08-03T02:46:11.647680",
     "status": "completed"
    },
    "tags": []
   },
   "outputs": [
    {
     "data": {
      "text/html": [
       "<div>\n",
       "<style scoped>\n",
       "    .dataframe tbody tr th:only-of-type {\n",
       "        vertical-align: middle;\n",
       "    }\n",
       "\n",
       "    .dataframe tbody tr th {\n",
       "        vertical-align: top;\n",
       "    }\n",
       "\n",
       "    .dataframe thead th {\n",
       "        text-align: right;\n",
       "    }\n",
       "</style>\n",
       "<table border=\"1\" class=\"dataframe\">\n",
       "  <thead>\n",
       "    <tr style=\"text-align: right;\">\n",
       "      <th></th>\n",
       "      <th>Pregnancies</th>\n",
       "      <th>Glucose</th>\n",
       "      <th>BloodPressure</th>\n",
       "      <th>SkinThickness</th>\n",
       "      <th>Insulin</th>\n",
       "      <th>BMI</th>\n",
       "      <th>DiabetesPedigreeFunction</th>\n",
       "      <th>Age</th>\n",
       "      <th>Outcome</th>\n",
       "    </tr>\n",
       "  </thead>\n",
       "  <tbody>\n",
       "    <tr>\n",
       "      <th>0</th>\n",
       "      <td>6</td>\n",
       "      <td>148</td>\n",
       "      <td>72</td>\n",
       "      <td>35</td>\n",
       "      <td>0</td>\n",
       "      <td>33.6</td>\n",
       "      <td>0.627</td>\n",
       "      <td>50</td>\n",
       "      <td>1</td>\n",
       "    </tr>\n",
       "    <tr>\n",
       "      <th>1</th>\n",
       "      <td>1</td>\n",
       "      <td>85</td>\n",
       "      <td>66</td>\n",
       "      <td>29</td>\n",
       "      <td>0</td>\n",
       "      <td>26.6</td>\n",
       "      <td>0.351</td>\n",
       "      <td>31</td>\n",
       "      <td>0</td>\n",
       "    </tr>\n",
       "    <tr>\n",
       "      <th>2</th>\n",
       "      <td>8</td>\n",
       "      <td>183</td>\n",
       "      <td>64</td>\n",
       "      <td>0</td>\n",
       "      <td>0</td>\n",
       "      <td>23.3</td>\n",
       "      <td>0.672</td>\n",
       "      <td>32</td>\n",
       "      <td>1</td>\n",
       "    </tr>\n",
       "    <tr>\n",
       "      <th>3</th>\n",
       "      <td>1</td>\n",
       "      <td>89</td>\n",
       "      <td>66</td>\n",
       "      <td>23</td>\n",
       "      <td>94</td>\n",
       "      <td>28.1</td>\n",
       "      <td>0.167</td>\n",
       "      <td>21</td>\n",
       "      <td>0</td>\n",
       "    </tr>\n",
       "    <tr>\n",
       "      <th>4</th>\n",
       "      <td>0</td>\n",
       "      <td>137</td>\n",
       "      <td>40</td>\n",
       "      <td>35</td>\n",
       "      <td>168</td>\n",
       "      <td>43.1</td>\n",
       "      <td>2.288</td>\n",
       "      <td>33</td>\n",
       "      <td>1</td>\n",
       "    </tr>\n",
       "    <tr>\n",
       "      <th>5</th>\n",
       "      <td>5</td>\n",
       "      <td>116</td>\n",
       "      <td>74</td>\n",
       "      <td>0</td>\n",
       "      <td>0</td>\n",
       "      <td>25.6</td>\n",
       "      <td>0.201</td>\n",
       "      <td>30</td>\n",
       "      <td>0</td>\n",
       "    </tr>\n",
       "    <tr>\n",
       "      <th>6</th>\n",
       "      <td>3</td>\n",
       "      <td>78</td>\n",
       "      <td>50</td>\n",
       "      <td>32</td>\n",
       "      <td>88</td>\n",
       "      <td>31.0</td>\n",
       "      <td>0.248</td>\n",
       "      <td>26</td>\n",
       "      <td>1</td>\n",
       "    </tr>\n",
       "  </tbody>\n",
       "</table>\n",
       "</div>"
      ],
      "text/plain": [
       "   Pregnancies  Glucose  BloodPressure  SkinThickness  Insulin   BMI  \\\n",
       "0            6      148             72             35        0  33.6   \n",
       "1            1       85             66             29        0  26.6   \n",
       "2            8      183             64              0        0  23.3   \n",
       "3            1       89             66             23       94  28.1   \n",
       "4            0      137             40             35      168  43.1   \n",
       "5            5      116             74              0        0  25.6   \n",
       "6            3       78             50             32       88  31.0   \n",
       "\n",
       "   DiabetesPedigreeFunction  Age  Outcome  \n",
       "0                     0.627   50        1  \n",
       "1                     0.351   31        0  \n",
       "2                     0.672   32        1  \n",
       "3                     0.167   21        0  \n",
       "4                     2.288   33        1  \n",
       "5                     0.201   30        0  \n",
       "6                     0.248   26        1  "
      ]
     },
     "execution_count": 4,
     "metadata": {},
     "output_type": "execute_result"
    }
   ],
   "source": [
    "df.head(7)"
   ]
  },
  {
   "cell_type": "code",
   "execution_count": 5,
   "id": "e31900ba",
   "metadata": {
    "execution": {
     "iopub.execute_input": "2025-08-03T02:46:11.686703Z",
     "iopub.status.busy": "2025-08-03T02:46:11.686431Z",
     "iopub.status.idle": "2025-08-03T02:46:11.696348Z",
     "shell.execute_reply": "2025-08-03T02:46:11.695401Z"
    },
    "papermill": {
     "duration": 0.015097,
     "end_time": "2025-08-03T02:46:11.697708",
     "exception": false,
     "start_time": "2025-08-03T02:46:11.682611",
     "status": "completed"
    },
    "tags": []
   },
   "outputs": [
    {
     "data": {
      "text/plain": [
       "Pregnancies                 0\n",
       "Glucose                     0\n",
       "BloodPressure               0\n",
       "SkinThickness               0\n",
       "Insulin                     0\n",
       "BMI                         0\n",
       "DiabetesPedigreeFunction    0\n",
       "Age                         0\n",
       "Outcome                     0\n",
       "dtype: int64"
      ]
     },
     "execution_count": 5,
     "metadata": {},
     "output_type": "execute_result"
    }
   ],
   "source": [
    "df.isnull().sum()"
   ]
  },
  {
   "cell_type": "code",
   "execution_count": 6,
   "id": "844f9621",
   "metadata": {
    "execution": {
     "iopub.execute_input": "2025-08-03T02:46:11.705427Z",
     "iopub.status.busy": "2025-08-03T02:46:11.705133Z",
     "iopub.status.idle": "2025-08-03T02:46:11.734280Z",
     "shell.execute_reply": "2025-08-03T02:46:11.733343Z"
    },
    "papermill": {
     "duration": 0.034922,
     "end_time": "2025-08-03T02:46:11.735935",
     "exception": false,
     "start_time": "2025-08-03T02:46:11.701013",
     "status": "completed"
    },
    "tags": []
   },
   "outputs": [
    {
     "data": {
      "text/html": [
       "<div>\n",
       "<style scoped>\n",
       "    .dataframe tbody tr th:only-of-type {\n",
       "        vertical-align: middle;\n",
       "    }\n",
       "\n",
       "    .dataframe tbody tr th {\n",
       "        vertical-align: top;\n",
       "    }\n",
       "\n",
       "    .dataframe thead th {\n",
       "        text-align: right;\n",
       "    }\n",
       "</style>\n",
       "<table border=\"1\" class=\"dataframe\">\n",
       "  <thead>\n",
       "    <tr style=\"text-align: right;\">\n",
       "      <th></th>\n",
       "      <th>Pregnancies</th>\n",
       "      <th>Glucose</th>\n",
       "      <th>BloodPressure</th>\n",
       "      <th>SkinThickness</th>\n",
       "      <th>Insulin</th>\n",
       "      <th>BMI</th>\n",
       "      <th>DiabetesPedigreeFunction</th>\n",
       "      <th>Age</th>\n",
       "      <th>Outcome</th>\n",
       "    </tr>\n",
       "  </thead>\n",
       "  <tbody>\n",
       "    <tr>\n",
       "      <th>0</th>\n",
       "      <td>6</td>\n",
       "      <td>148</td>\n",
       "      <td>72</td>\n",
       "      <td>35</td>\n",
       "      <td>0</td>\n",
       "      <td>33.6</td>\n",
       "      <td>0.627</td>\n",
       "      <td>50</td>\n",
       "      <td>1</td>\n",
       "    </tr>\n",
       "    <tr>\n",
       "      <th>1</th>\n",
       "      <td>1</td>\n",
       "      <td>85</td>\n",
       "      <td>66</td>\n",
       "      <td>29</td>\n",
       "      <td>0</td>\n",
       "      <td>26.6</td>\n",
       "      <td>0.351</td>\n",
       "      <td>31</td>\n",
       "      <td>0</td>\n",
       "    </tr>\n",
       "    <tr>\n",
       "      <th>2</th>\n",
       "      <td>8</td>\n",
       "      <td>183</td>\n",
       "      <td>64</td>\n",
       "      <td>0</td>\n",
       "      <td>0</td>\n",
       "      <td>23.3</td>\n",
       "      <td>0.672</td>\n",
       "      <td>32</td>\n",
       "      <td>1</td>\n",
       "    </tr>\n",
       "    <tr>\n",
       "      <th>3</th>\n",
       "      <td>1</td>\n",
       "      <td>89</td>\n",
       "      <td>66</td>\n",
       "      <td>23</td>\n",
       "      <td>94</td>\n",
       "      <td>28.1</td>\n",
       "      <td>0.167</td>\n",
       "      <td>21</td>\n",
       "      <td>0</td>\n",
       "    </tr>\n",
       "    <tr>\n",
       "      <th>5</th>\n",
       "      <td>5</td>\n",
       "      <td>116</td>\n",
       "      <td>74</td>\n",
       "      <td>0</td>\n",
       "      <td>0</td>\n",
       "      <td>25.6</td>\n",
       "      <td>0.201</td>\n",
       "      <td>30</td>\n",
       "      <td>0</td>\n",
       "    </tr>\n",
       "    <tr>\n",
       "      <th>...</th>\n",
       "      <td>...</td>\n",
       "      <td>...</td>\n",
       "      <td>...</td>\n",
       "      <td>...</td>\n",
       "      <td>...</td>\n",
       "      <td>...</td>\n",
       "      <td>...</td>\n",
       "      <td>...</td>\n",
       "      <td>...</td>\n",
       "    </tr>\n",
       "    <tr>\n",
       "      <th>763</th>\n",
       "      <td>10</td>\n",
       "      <td>101</td>\n",
       "      <td>76</td>\n",
       "      <td>48</td>\n",
       "      <td>180</td>\n",
       "      <td>32.9</td>\n",
       "      <td>0.171</td>\n",
       "      <td>63</td>\n",
       "      <td>0</td>\n",
       "    </tr>\n",
       "    <tr>\n",
       "      <th>764</th>\n",
       "      <td>2</td>\n",
       "      <td>122</td>\n",
       "      <td>70</td>\n",
       "      <td>27</td>\n",
       "      <td>0</td>\n",
       "      <td>36.8</td>\n",
       "      <td>0.340</td>\n",
       "      <td>27</td>\n",
       "      <td>0</td>\n",
       "    </tr>\n",
       "    <tr>\n",
       "      <th>765</th>\n",
       "      <td>5</td>\n",
       "      <td>121</td>\n",
       "      <td>72</td>\n",
       "      <td>23</td>\n",
       "      <td>112</td>\n",
       "      <td>26.2</td>\n",
       "      <td>0.245</td>\n",
       "      <td>30</td>\n",
       "      <td>0</td>\n",
       "    </tr>\n",
       "    <tr>\n",
       "      <th>766</th>\n",
       "      <td>1</td>\n",
       "      <td>126</td>\n",
       "      <td>60</td>\n",
       "      <td>0</td>\n",
       "      <td>0</td>\n",
       "      <td>30.1</td>\n",
       "      <td>0.349</td>\n",
       "      <td>47</td>\n",
       "      <td>1</td>\n",
       "    </tr>\n",
       "    <tr>\n",
       "      <th>767</th>\n",
       "      <td>1</td>\n",
       "      <td>93</td>\n",
       "      <td>70</td>\n",
       "      <td>31</td>\n",
       "      <td>0</td>\n",
       "      <td>30.4</td>\n",
       "      <td>0.315</td>\n",
       "      <td>23</td>\n",
       "      <td>0</td>\n",
       "    </tr>\n",
       "  </tbody>\n",
       "</table>\n",
       "<p>688 rows × 9 columns</p>\n",
       "</div>"
      ],
      "text/plain": [
       "     Pregnancies  Glucose  BloodPressure  SkinThickness  Insulin   BMI  \\\n",
       "0              6      148             72             35        0  33.6   \n",
       "1              1       85             66             29        0  26.6   \n",
       "2              8      183             64              0        0  23.3   \n",
       "3              1       89             66             23       94  28.1   \n",
       "5              5      116             74              0        0  25.6   \n",
       "..           ...      ...            ...            ...      ...   ...   \n",
       "763           10      101             76             48      180  32.9   \n",
       "764            2      122             70             27        0  36.8   \n",
       "765            5      121             72             23      112  26.2   \n",
       "766            1      126             60              0        0  30.1   \n",
       "767            1       93             70             31        0  30.4   \n",
       "\n",
       "     DiabetesPedigreeFunction  Age  Outcome  \n",
       "0                       0.627   50        1  \n",
       "1                       0.351   31        0  \n",
       "2                       0.672   32        1  \n",
       "3                       0.167   21        0  \n",
       "5                       0.201   30        0  \n",
       "..                        ...  ...      ...  \n",
       "763                     0.171   63        0  \n",
       "764                     0.340   27        0  \n",
       "765                     0.245   30        0  \n",
       "766                     0.349   47        1  \n",
       "767                     0.315   23        0  \n",
       "\n",
       "[688 rows x 9 columns]"
      ]
     },
     "execution_count": 6,
     "metadata": {},
     "output_type": "execute_result"
    }
   ],
   "source": [
    "# Outlier detection with z-score\n",
    "means = []\n",
    "stds = []\n",
    "for col in cols[:-1]:\n",
    "    means.append(np.mean(df[col].values))\n",
    "    stds.append(np.std(df[col].values))\n",
    "\n",
    "df_dropped = df\n",
    "for col_idx, col in enumerate(cols[:-1]):\n",
    "    df_dropped = df_dropped[(-3*stds[col_idx] <= df_dropped[col] - means[col_idx]) &\n",
    "    (df_dropped[col] - means[col_idx] <= 3*stds[col_idx])]\n",
    "\n",
    "df_dropped"
   ]
  },
  {
   "cell_type": "code",
   "execution_count": 7,
   "id": "12097c85",
   "metadata": {
    "execution": {
     "iopub.execute_input": "2025-08-03T02:46:11.744642Z",
     "iopub.status.busy": "2025-08-03T02:46:11.744375Z",
     "iopub.status.idle": "2025-08-03T02:46:12.934218Z",
     "shell.execute_reply": "2025-08-03T02:46:12.933278Z"
    },
    "papermill": {
     "duration": 1.196191,
     "end_time": "2025-08-03T02:46:12.935922",
     "exception": false,
     "start_time": "2025-08-03T02:46:11.739731",
     "status": "completed"
    },
    "tags": []
   },
   "outputs": [
    {
     "data": {
      "image/png": "[encoded data removed]",
      "text/plain": [
       "<Figure size 900x400 with 8 Axes>"
      ]
     },
     "metadata": {},
     "output_type": "display_data"
    }
   ],
   "source": [
    "import matplotlib.pyplot as plt\n",
    "import numpy as np\n",
    "\n",
    "fig, axes = plt.subplots(2,4, figsize = (9,4))\n",
    "for idx, ax in enumerate(axes.flat):\n",
    "    ax.hist(df_dropped[cols[idx]].values, bins=10)\n",
    "    ax.set_title(cols[idx])\n",
    "\n",
    "fig.tight_layout()\n",
    "plt.show()"
   ]
  },
  {
   "cell_type": "code",
   "execution_count": 8,
   "id": "ce4bf841",
   "metadata": {
    "execution": {
     "iopub.execute_input": "2025-08-03T02:46:12.945911Z",
     "iopub.status.busy": "2025-08-03T02:46:12.945269Z",
     "iopub.status.idle": "2025-08-03T02:46:12.961937Z",
     "shell.execute_reply": "2025-08-03T02:46:12.960714Z"
    },
    "papermill": {
     "duration": 0.023333,
     "end_time": "2025-08-03T02:46:12.963579",
     "exception": false,
     "start_time": "2025-08-03T02:46:12.940246",
     "status": "completed"
    },
    "tags": []
   },
   "outputs": [
    {
     "name": "stdout",
     "output_type": "stream",
     "text": [
      "Pregnancies                   3.325380\n",
      "Glucose                     110.223427\n",
      "BloodPressure                70.770065\n",
      "SkinThickness                20.175705\n",
      "Insulin                      65.553145\n",
      "BMI                          30.825813\n",
      "DiabetesPedigreeFunction      0.411885\n",
      "Age                          31.119306\n",
      "Outcome                       0.000000\n",
      "dtype: float64\n",
      "Pregnancies                   4.903084\n",
      "Glucose                     140.744493\n",
      "BloodPressure                75.546256\n",
      "SkinThickness                22.030837\n",
      "Insulin                      86.629956\n",
      "BMI                          35.018502\n",
      "DiabetesPedigreeFunction      0.541211\n",
      "Age                          37.105727\n",
      "Outcome                       1.000000\n",
      "dtype: float64\n",
      "                          Pregnancies   Glucose  BloodPressure  SkinThickness  \\\n",
      "Pregnancies                  1.000000  0.156470       0.229881      -0.097721   \n",
      "Glucose                      0.156470  1.000000       0.240560       0.008577   \n",
      "BloodPressure                0.229881  0.240560       1.000000       0.005076   \n",
      "SkinThickness               -0.097721  0.008577       0.005076       1.000000   \n",
      "Insulin                     -0.080638  0.272654      -0.070572       0.462778   \n",
      "BMI                          0.043549  0.196665       0.274707       0.383819   \n",
      "DiabetesPedigreeFunction     0.015522  0.104521       0.032757       0.153530   \n",
      "Age                          0.569787  0.266930       0.354391      -0.150039   \n",
      "Outcome                      0.226382  0.478614       0.182521       0.056662   \n",
      "\n",
      "                           Insulin       BMI  DiabetesPedigreeFunction  \\\n",
      "Pregnancies              -0.080638  0.043549                  0.015522   \n",
      "Glucose                   0.272654  0.196665                  0.104521   \n",
      "BloodPressure            -0.070572  0.274707                  0.032757   \n",
      "SkinThickness             0.462778  0.383819                  0.153530   \n",
      "Insulin                   1.000000  0.165428                  0.183184   \n",
      "BMI                       0.165428  1.000000                  0.125714   \n",
      "DiabetesPedigreeFunction  0.183184  0.125714                  1.000000   \n",
      "Age                      -0.081003  0.059980                  0.060663   \n",
      "Outcome                   0.110062  0.298056                  0.213872   \n",
      "\n",
      "                               Age   Outcome  \n",
      "Pregnancies               0.569787  0.226382  \n",
      "Glucose                   0.266930  0.478614  \n",
      "BloodPressure             0.354391  0.182521  \n",
      "SkinThickness            -0.150039  0.056662  \n",
      "Insulin                  -0.081003  0.110062  \n",
      "BMI                       0.059980  0.298056  \n",
      "DiabetesPedigreeFunction  0.060663  0.213872  \n",
      "Age                       1.000000  0.246290  \n",
      "Outcome                   0.246290  1.000000  \n"
     ]
    }
   ],
   "source": [
    "#주요 변수들과 타겟의 관계 확인\n",
    "\n",
    "#그룹별 평균 구하기\n",
    "\n",
    "no_diabetes = df_dropped[df_dropped['Outcome'] == 0]\n",
    "yes_diabetes = df_dropped[df_dropped['Outcome'] == 1]\n",
    "\n",
    "no_diabetes_means = no_diabetes.mean(numeric_only=True)\n",
    "yes_diabetes_means = yes_diabetes.mean(numeric_only=True)\n",
    "\n",
    "print(no_diabetes_means)\n",
    "print(yes_diabetes_means)\n",
    "\n",
    "#모든 변수 간 correlation coefficient 구하기 \n",
    "correlation_matrix = df_dropped.corr()\n",
    "print(correlation_matrix)"
   ]
  },
  {
   "cell_type": "code",
   "execution_count": 9,
   "id": "ebb2ade3",
   "metadata": {
    "execution": {
     "iopub.execute_input": "2025-08-03T02:46:12.974110Z",
     "iopub.status.busy": "2025-08-03T02:46:12.973147Z",
     "iopub.status.idle": "2025-08-03T02:46:13.842904Z",
     "shell.execute_reply": "2025-08-03T02:46:13.842024Z"
    },
    "papermill": {
     "duration": 0.876604,
     "end_time": "2025-08-03T02:46:13.844651",
     "exception": false,
     "start_time": "2025-08-03T02:46:12.968047",
     "status": "completed"
    },
    "tags": []
   },
   "outputs": [
    {
     "data": {
      "image/png": "[encoded data removed]",
      "text/plain": [
       "<Figure size 900x400 with 8 Axes>"
      ]
     },
     "metadata": {},
     "output_type": "display_data"
    }
   ],
   "source": [
    "#boxplot\n",
    "fig, axes = plt.subplots(2,4, figsize=(9,4))\n",
    "\n",
    "for idx, ax in enumerate(axes.flatten()):\n",
    "    data_to_plot = [no_diabetes[cols[idx]], yes_diabetes[cols[idx]]]\n",
    "    ax.boxplot(data_to_plot, labels=['normal', 'diabetes'])\n",
    "    ax.set_title(cols[idx])\n",
    "\n",
    "fig.tight_layout()\n",
    "plt.show()"
   ]
  },
  {
   "cell_type": "code",
   "execution_count": 10,
   "id": "1750bbce",
   "metadata": {
    "execution": {
     "iopub.execute_input": "2025-08-03T02:46:13.856103Z",
     "iopub.status.busy": "2025-08-03T02:46:13.855771Z",
     "iopub.status.idle": "2025-08-03T02:46:13.859769Z",
     "shell.execute_reply": "2025-08-03T02:46:13.859046Z"
    },
    "papermill": {
     "duration": 0.0115,
     "end_time": "2025-08-03T02:46:13.861359",
     "exception": false,
     "start_time": "2025-08-03T02:46:13.849859",
     "status": "completed"
    },
    "tags": []
   },
   "outputs": [],
   "source": [
    "#변수 간 관계 탐색\n",
    "#수치형-수치형: 산점도, 상관계수\n",
    "\n",
    "#glucose & pregnancies \n",
    "\n",
    "#glucose & DPF\n",
    "\n",
    "#glucose & BMI\n",
    "\n",
    "#glucose & blood pressure"
   ]
  }
 ],
 "metadata": {
  "kaggle": {
   "accelerator": "none",
   "dataSources": [
    {
     "datasetId": 7978508,
     "sourceId": 12627271,
     "sourceType": "datasetVersion"
    }
   ],
   "dockerImageVersionId": 31089,
   "isGpuEnabled": false,
   "isInternetEnabled": true,
   "language": "python",
   "sourceType": "notebook"
  },
  "kernelspec": {
   "display_name": "Python 3",
   "language": "python",
   "name": "python3"
  },
  "language_info": {
   "codemirror_mode": {
    "name": "ipython",
    "version": 3
   },
   "file_extension": ".py",
   "mimetype": "text/x-python",
   "name": "python",
   "nbconvert_exporter": "python",
   "pygments_lexer": "ipython3",
   "version": "3.11.13"
  },
  "papermill": {
   "default_parameters": {},
   "duration": 10.189083,
   "end_time": "2025-08-03T02:46:14.385208",
   "environment_variables": {},
   "exception": null,
   "input_path": "__notebook__.ipynb",
   "output_path": "__notebook__.ipynb",
   "parameters": {},
   "start_time": "2025-08-03T02:46:04.196125",
   "version": "2.6.0"
  }
 },
 "nbformat": 4,
 "nbformat_minor": 5
}
